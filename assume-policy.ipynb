{
  "nbformat": 4,
  "nbformat_minor": 0,
  "metadata": {
    "colab": {
      "provenance": [],
      "authorship_tag": "ABX9TyPjTKf5J1n5VY3iJE5QM0rf",
      "include_colab_link": true
    },
    "kernelspec": {
      "name": "python3",
      "display_name": "Python 3"
    },
    "language_info": {
      "name": "python"
    }
  },
  "cells": [
    {
      "cell_type": "markdown",
      "metadata": {
        "id": "view-in-github",
        "colab_type": "text"
      },
      "source": [
        "<a href=\"https://colab.research.google.com/github/NWOYESTEPEHN/Advanced-IAM-Management-System-for-AWS/blob/main/Untitled64.ipynb\" target=\"_parent\"><img src=\"https://colab.research.google.com/assets/colab-badge.svg\" alt=\"Open In Colab\"/></a>"
      ]
    },
    {
      "cell_type": "markdown",
      "source": [
        "> As businesses increasingly move their operations to the cloud, ensuring secure access management becomes paramount. This project aims to develop an advanced Identity and Access Management (IAM) system tailored for AWS. The system will incorporate stringent password policies, enforce the principle of least privilege access, and provide a testing framework for new IAM policies, ensuring a secure, efficient, and resilient access management infrastructure.\n",
        "\n",
        "\n"
      ],
      "metadata": {
        "id": "qZdZ6SvoTey6"
      }
    },
    {
      "cell_type": "code",
      "execution_count": null,
      "metadata": {
        "id": "2Tyis2KXTcwY"
      },
      "outputs": [],
      "source": [
        "# Create a file called assume-role-policy.json with the following content\n",
        "\n",
        "{\n",
        "  \"Version\": \"2012-10-17\",\n",
        "  \"Statement\": [\n",
        "    {\n",
        "      \"Effect\": \"Allow\",\n",
        "      \"Principal\": {\n",
        "        \"Service\": \"ec2.amazonaws.com\"\n",
        "      },\n",
        "      \"Action\": \"sts:AssumeRole\"\n",
        "    }\n",
        "  ]\n",
        "}"
      ]
    }
  ]
}
